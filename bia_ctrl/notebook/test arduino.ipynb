{
 "cells": [
  {
   "cell_type": "code",
   "execution_count": 9,
   "metadata": {
    "collapsed": true
   },
   "outputs": [],
   "source": [
    "import socket\n",
    "import time"
   ]
  },
  {
   "cell_type": "code",
   "execution_count": 18,
   "metadata": {
    "collapsed": true
   },
   "outputs": [],
   "source": [
    "TCP_IP = '172.20.110.70'\n",
    "TCP_PORT = 23\n",
    "from bshsimulator import BshSimulator"
   ]
  },
  {
   "cell_type": "code",
   "execution_count": null,
   "metadata": {
    "collapsed": true
   },
   "outputs": [],
   "source": [
    "#fake \n",
    "TCP_IP = '127.0.0.1'\n",
    "TCP_PORT = 5006"
   ]
  },
  {
   "cell_type": "code",
   "execution_count": 19,
   "metadata": {
    "collapsed": false
   },
   "outputs": [],
   "source": [
    "import datetime as dt\n",
    "timeout = 5\n",
    "def safeRecv(socket):\n",
    "    t0 = dt.datetime.now()\n",
    "    try:\n",
    "        ret = [socket.recv(1024)]\n",
    "    except Exception as inst:\n",
    "            print \"text='error : %s '\" % inst\n",
    "            return False, ''\n",
    "    while(\"ok\\r\\n\" not in ret[-1] and (dt.datetime.now()-t0).total_seconds()<timeout):\n",
    "        try:\n",
    "            ret.append(socket.recv(1024))\n",
    "        except Exception as inst:\n",
    "            print \"text='error : %s '\" % inst\n",
    "            return False, ''\n",
    "        \n",
    "    if (dt.datetime.now()-t0).total_seconds()<timeout:\n",
    "        return True, ''.join(ret)\n",
    "    else:\n",
    "        return False, ''\n",
    "\n"
   ]
  },
  {
   "cell_type": "code",
   "execution_count": 20,
   "metadata": {
    "collapsed": false
   },
   "outputs": [],
   "source": [
    "scenario = [\"init\\r\\n\", \"bia_on\\r\\n\", \"bia_off\\r\\n\", \"shut_open\\r\\n\", \"shut_close\\r\\n\"]"
   ]
  },
  {
   "cell_type": "code",
   "execution_count": 22,
   "metadata": {
    "collapsed": true
   },
   "outputs": [],
   "source": [
    "scenario = [\"init\\r\\n\", \"bia_on\\r\\n\", \"shut_open\\r\\n\", \"bia_off\\r\\n\", \"shut_open\\r\\n\", \"bia_on\\r\\n\", \"shut_close\\r\\n\"]"
   ]
  },
  {
   "cell_type": "code",
   "execution_count": null,
   "metadata": {
    "collapsed": true
   },
   "outputs": [],
   "source": [
    "scenario = [\"set_period1000\\r\\n\", \"get_period\\r\\n\", \"set_duty512\\r\\n\", \"get_duty\\r\\n\" ]"
   ]
  },
  {
   "cell_type": "code",
   "execution_count": null,
   "metadata": {
    "collapsed": true
   },
   "outputs": [],
   "source": [
    "scenario = [\"statword\\r\\n\"]"
   ]
  },
  {
   "cell_type": "code",
   "execution_count": null,
   "metadata": {
    "collapsed": true
   },
   "outputs": [],
   "source": [
    "scenario = [\"stop\\r\\n\"]"
   ]
  },
  {
   "cell_type": "code",
   "execution_count": 23,
   "metadata": {
    "collapsed": false
   },
   "outputs": [
    {
     "name": "stdout",
     "output_type": "stream",
     "text": [
      "received data: ['', '']\n",
      "status= ['0', '']\n",
      "received data: ['', '']\n",
      "status= ['2', '']\n",
      "received data: ['intlk', '']\n",
      "status= ['2', '']\n",
      "received data: ['', '']\n",
      "status= ['0', '']\n",
      "received data: ['', '']\n",
      "status= ['1', '']\n",
      "received data: ['intlk', '']\n",
      "status= ['1', '']\n",
      "received data: ['', '']\n",
      "status= ['0', '']\n"
     ]
    }
   ],
   "source": [
    "mode=\"operation\"\n",
    "\n",
    "s = socket.socket(socket.AF_INET, socket.SOCK_STREAM) if mode==\"operation\" else BshSimulator()\n",
    "s.settimeout(3)\n",
    "s.connect((TCP_IP, TCP_PORT))\n",
    "\n",
    "for command in scenario:\n",
    "    time.sleep(0.2)\n",
    "    s.send(command)\n",
    "    ok, data = safeRecv(s)\n",
    "    print \"received data:\", data.split(\"ok\\r\\n\")\n",
    "    time.sleep(0.2)\n",
    "    s.send(\"status\\r\\n\")\n",
    "    ok, data = safeRecv(s)\n",
    "    print \"status=\",data.split(\"ok\\r\\n\")\n",
    "    \n",
    "s.close()"
   ]
  },
  {
   "cell_type": "code",
   "execution_count": null,
   "metadata": {
    "collapsed": false
   },
   "outputs": [],
   "source": [
    "s = socket.socket(socket.AF_INET, socket.SOCK_STREAM)\n",
    "s.connect((TCP_IP, TCP_PORT))\n",
    "\n",
    "s.send(\"set_period1000\\r\\n\")\n",
    "data = s.recv(1024)\n",
    "print \"received data:\", data.split(\"ok\\r\\n\")\n",
    "\n",
    "\n",
    "s.close()"
   ]
  },
  {
   "cell_type": "code",
   "execution_count": null,
   "metadata": {
    "collapsed": false
   },
   "outputs": [],
   "source": [
    "s = socket.socket(socket.AF_INET, socket.SOCK_STREAM)\n",
    "s.connect((TCP_IP, TCP_PORT))\n",
    "\n",
    "s.send(\"get_period\\r\\n\")\n",
    "data = s.recv(1024)\n",
    "print \"received data:\", data, len(data)\n",
    "\n",
    "\n",
    "s.close()"
   ]
  },
  {
   "cell_type": "code",
   "execution_count": null,
   "metadata": {
    "collapsed": false
   },
   "outputs": [],
   "source": []
  },
  {
   "cell_type": "code",
   "execution_count": null,
   "metadata": {
    "collapsed": false
   },
   "outputs": [],
   "source": [
    "s = socket.socket(socket.AF_INET, socket.SOCK_STREAM)\n",
    "s.connect((TCP_IP, TCP_PORT))\n",
    "\n",
    "s.send(\"get_period\\r\\n\")\n",
    "print safeRecv(s)"
   ]
  },
  {
   "cell_type": "code",
   "execution_count": null,
   "metadata": {
    "collapsed": false
   },
   "outputs": [],
   "source": [
    "s.send(\"set_period10000\\r\\n\")"
   ]
  },
  {
   "cell_type": "code",
   "execution_count": null,
   "metadata": {
    "collapsed": true
   },
   "outputs": [],
   "source": []
  }
 ],
 "metadata": {
  "kernelspec": {
   "display_name": "Python 2",
   "language": "python",
   "name": "python2"
  },
  "language_info": {
   "codemirror_mode": {
    "name": "ipython",
    "version": 2
   },
   "file_extension": ".py",
   "mimetype": "text/x-python",
   "name": "python",
   "nbconvert_exporter": "python",
   "pygments_lexer": "ipython2",
   "version": "2.7.10"
  }
 },
 "nbformat": 4,
 "nbformat_minor": 0
}
