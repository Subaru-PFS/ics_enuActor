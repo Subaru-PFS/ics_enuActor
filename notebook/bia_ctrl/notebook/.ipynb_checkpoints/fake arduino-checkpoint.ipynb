{
 "cells": [
  {
   "cell_type": "code",
   "execution_count": 6,
   "metadata": {
    "collapsed": false
   },
   "outputs": [
    {
     "name": "stdout",
     "output_type": "stream",
     "text": [
      "Connection address: ('127.0.0.1', 39672)\n",
      "received data: init\n",
      "\n",
      "received data: status\n",
      "\n",
      "received data: safe_on\n",
      "\n",
      "received data: status\n",
      "\n",
      "received data: bia_on\n",
      "\n",
      "received data: status\n",
      "\n",
      "received data: bia_off\n",
      "\n",
      "received data: status\n",
      "\n",
      "received data: shut_open\n",
      "\n",
      "received data: status\n",
      "\n",
      "received data: shut_close\n",
      "\n",
      "received data: status\n",
      "\n"
     ]
    }
   ],
   "source": [
    "import socket\n",
    "import time\n",
    "TCP_IP = '127.0.0.1'\n",
    "TCP_PORT = 5006\n",
    "BUFFER_SIZE = 1024  # Normally 1024, but we want fast response\n",
    "s = socket.socket(socket.AF_INET, socket.SOCK_STREAM)\n",
    "s.bind((TCP_IP, TCP_PORT))\n",
    "s.listen(1)\n",
    " \n",
    "conn, addr = s.accept()\n",
    "print 'Connection address:', addr\n",
    "while 1:\n",
    "    data = conn.recv(BUFFER_SIZE)\n",
    "    if not data: break\n",
    "    print \"received data:\", data\n",
    "    time.sleep(5.5)\n",
    "    if data in [\"init\\r\\n\", \"safe_on\\r\\n\", \"bia_on\\r\\n\", \"bia_off\\r\\n\", \"shut_open\\r\\n\", \"shut_close\\r\\n\", \"status\\r\\n\"]:\n",
    "        conn.send(\"ok\\r\\n\")  # echo\n",
    "    \n",
    "conn.close()"
   ]
  },
  {
   "cell_type": "code",
   "execution_count": null,
   "metadata": {
    "collapsed": true
   },
   "outputs": [],
   "source": []
  }
 ],
 "metadata": {
  "kernelspec": {
   "display_name": "Python 2",
   "language": "python",
   "name": "python2"
  },
  "language_info": {
   "codemirror_mode": {
    "name": "ipython",
    "version": 2
   },
   "file_extension": ".py",
   "mimetype": "text/x-python",
   "name": "python",
   "nbconvert_exporter": "python",
   "pygments_lexer": "ipython2",
   "version": "2.7.10"
  }
 },
 "nbformat": 4,
 "nbformat_minor": 0
}
