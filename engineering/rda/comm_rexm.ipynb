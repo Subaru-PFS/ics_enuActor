{
 "cells": [
  {
   "cell_type": "code",
   "execution_count": 4,
   "metadata": {
    "collapsed": false
   },
   "outputs": [
    {
     "ename": "ImportError",
     "evalue": "No module named enuActor.Controllers.drivers",
     "output_type": "error",
     "traceback": [
      "\u001b[0;31m---------------------------------------------------------------------------\u001b[0m",
      "\u001b[0;31mImportError\u001b[0m                               Traceback (most recent call last)",
      "\u001b[0;32m<ipython-input-4-a1fa994ad6f8>\u001b[0m in \u001b[0;36m<module>\u001b[0;34m()\u001b[0m\n\u001b[0;32m----> 1\u001b[0;31m \u001b[0;32mfrom\u001b[0m \u001b[0menuActor\u001b[0m\u001b[0;34m.\u001b[0m\u001b[0mControllers\u001b[0m\u001b[0;34m.\u001b[0m\u001b[0mdrivers\u001b[0m \u001b[0;32mimport\u001b[0m \u001b[0mrexm_drivers\u001b[0m\u001b[0;34m\u001b[0m\u001b[0m\n\u001b[0m\u001b[1;32m      2\u001b[0m \u001b[0;32mimport\u001b[0m \u001b[0mnumpy\u001b[0m \u001b[0;32mas\u001b[0m \u001b[0mnp\u001b[0m\u001b[0;34m\u001b[0m\u001b[0m\n",
      "\u001b[0;31mImportError\u001b[0m: No module named enuActor.Controllers.drivers"
     ]
    }
   ],
   "source": [
    "from enuActor.Controllers.drivers import rexm_drivers\n",
    "import numpy as np"
   ]
  },
  {
   "cell_type": "code",
   "execution_count": 7,
   "metadata": {
    "collapsed": false
   },
   "outputs": [
    {
     "ename": "NameError",
     "evalue": "name 'rexm_drivers' is not defined",
     "output_type": "error",
     "traceback": [
      "\u001b[0;31m---------------------------------------------------------------------------\u001b[0m",
      "\u001b[0;31mNameError\u001b[0m                                 Traceback (most recent call last)",
      "\u001b[0;32m<ipython-input-7-a9b22372b08e>\u001b[0m in \u001b[0;36m<module>\u001b[0;34m()\u001b[0m\n\u001b[1;32m      1\u001b[0m \u001b[0mport\u001b[0m \u001b[0;34m=\u001b[0m \u001b[0;34m\"/dev/ttyS0\"\u001b[0m\u001b[0;34m\u001b[0m\u001b[0m\n\u001b[0;32m----> 2\u001b[0;31m \u001b[0mmyTMCM\u001b[0m \u001b[0;34m=\u001b[0m \u001b[0mrexm_drivers\u001b[0m\u001b[0;34m.\u001b[0m\u001b[0mTMCM\u001b[0m\u001b[0;34m(\u001b[0m\u001b[0mport\u001b[0m\u001b[0;34m)\u001b[0m\u001b[0;34m\u001b[0m\u001b[0m\n\u001b[0m\u001b[1;32m      3\u001b[0m \u001b[0;32mprint\u001b[0m \u001b[0;34m\"switchA=\"\u001b[0m\u001b[0;34m,\u001b[0m \u001b[0mmyTMCM\u001b[0m\u001b[0;34m.\u001b[0m\u001b[0mgap\u001b[0m\u001b[0;34m(\u001b[0m\u001b[0;36m11\u001b[0m\u001b[0;34m)\u001b[0m\u001b[0;34m\u001b[0m\u001b[0m\n",
      "\u001b[0;31mNameError\u001b[0m: name 'rexm_drivers' is not defined"
     ]
    }
   ],
   "source": [
    "port = \"/dev/ttyS0\"\n",
    "myTMCM = rexm_drivers.TMCM(port)\n",
    "print \"switchA=\", myTMCM.gap(11)"
   ]
  },
  {
   "cell_type": "code",
   "execution_count": null,
   "metadata": {
    "collapsed": true
   },
   "outputs": [],
   "source": [
    "myTMCM.stop()\n",
    "print \"switchA=\", myTMCM.gap(11)\n",
    "print \"switchB=\", myTMCM.gap(10)\n",
    "print \"speed=\", myTMCM.gap(3)\n",
    "print \"position\", myTMCM.gap(1)"
   ]
  },
  {
   "cell_type": "code",
   "execution_count": null,
   "metadata": {
    "collapsed": true
   },
   "outputs": [],
   "source": [
    "myTMCM.MVP(0, 2, 1)\n",
    "time.sleep(2)\n",
    "myTMCM.stop()"
   ]
  },
  {
   "cell_type": "code",
   "execution_count": 8,
   "metadata": {
    "collapsed": false
   },
   "outputs": [],
   "source": [
    "#Some note about calculing speed parameters\n",
    "\n",
    "#There is two parameters which fixes the speed :\n",
    "# - pulseDivisor between 0 and 13\n",
    "# - velocity between 0 and 2048\n",
    "\n",
    "# - if you have speed in mm/s\n",
    "\n",
    "#speed = np.float64(speed / screwStep * reducer * nbStepByRev * step)  # this convert from mm/s to ustep/s\n",
    "\n",
    "#then if you want to modify the motor speed, you have a to change the velocity parameters with respect to:\n",
    "# it's own limit (0-2048)\n",
    "# pulseDivisor value\n",
    "\n",
    "#velocity = (speed) * ((2 ** pulseDivisor) * 2048 * 32) / 16.0e6\n",
    "\n",
    "# You have to increase/decrease the pulseDivisor, if the velocity is below 50 or beyond 2048\n",
    "speed = 3.2 #mms/s\n",
    "\n",
    "pulseDivisor = np.uint32(myTMCM.gap(154))\n",
    "stepIdx = myTMCM.gap(140)\n",
    "\n",
    "screwStep = 5.0  # mm\n",
    "step = 1 << stepIdx  # number of ustep by motorstep\n",
    "nbStepByRev = 200.0  # number of motorstep by motor rotation\n",
    "reducer = 12.0  #  number of motor rotation for 1 rotation of the reducer\n",
    "\n",
    "speed = np.float64(reducer * nbStepByRev * step * speed / screwStep) #ustep/s\n",
    "\n",
    "velocity = (speed) * ((2 ** pulseDivisor) * 2048 * 32) / 16.0e6\n"
   ]
  },
  {
   "cell_type": "code",
   "execution_count": 9,
   "metadata": {
    "collapsed": false
   },
   "outputs": [
    {
     "data": {
      "text/plain": [
       "805.30636800000002"
      ]
     },
     "execution_count": 9,
     "metadata": {},
     "output_type": "execute_result"
    }
   ],
   "source": [
    "velocity\n"
   ]
  },
  {
   "cell_type": "code",
   "execution_count": 2,
   "metadata": {
    "collapsed": false
   },
   "outputs": [
    {
     "data": {
      "text/plain": [
       "4"
      ]
     },
     "execution_count": 2,
     "metadata": {},
     "output_type": "execute_result"
    }
   ],
   "source": [
    "1<<2"
   ]
  },
  {
   "cell_type": "code",
   "execution_count": null,
   "metadata": {
    "collapsed": true
   },
   "outputs": [],
   "source": []
  }
 ],
 "metadata": {
  "anaconda-cloud": {},
  "kernelspec": {
   "display_name": "Python [default]",
   "language": "python",
   "name": "python2"
  },
  "language_info": {
   "codemirror_mode": {
    "name": "ipython",
    "version": 2
   },
   "file_extension": ".py",
   "mimetype": "text/x-python",
   "name": "python",
   "nbconvert_exporter": "python",
   "pygments_lexer": "ipython2",
   "version": "2.7.12"
  }
 },
 "nbformat": 4,
 "nbformat_minor": 0
}
