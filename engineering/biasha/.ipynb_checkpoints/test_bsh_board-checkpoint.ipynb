{
 "cells": [
  {
   "cell_type": "code",
   "execution_count": 4,
   "metadata": {},
   "outputs": [],
   "source": [
    "from utils import bsh\n",
    "import time\n",
    "from datetime import datetime as dt\n",
    "import sys\n",
    "import traceback\n",
    "from collections import OrderedDict"
   ]
  },
  {
   "cell_type": "code",
   "execution_count": 5,
   "metadata": {},
   "outputs": [],
   "source": [
    "def cmdTraceback(e):\n",
    "    eType, eValue, eTraceback = sys.exc_info()\n",
    "    tbList = traceback.extract_tb(eTraceback)\n",
    "    where = tbList[-1]\n",
    "\n",
    "    return \"%r at %s:%d\" % (eValue, where[0], where[1])"
   ]
  },
  {
   "cell_type": "code",
   "execution_count": 6,
   "metadata": {},
   "outputs": [],
   "source": [
    "def createSimData():\n",
    "    sim = bsh('simulation', 'toto', 5432)\n",
    "    sim.startComm()\n",
    "\n",
    "    simData = {}\n",
    "\n",
    "    for cmdStr in sim.cmdList:\n",
    "        res = []\n",
    "\n",
    "        for state in sim.states:\n",
    "            sim.sendOneCommand('init')\n",
    "            sim.sendOneCommand(state)\n",
    "            stat = sim.sendOneCommand('status')\n",
    "\n",
    "            ret = sim.sendOneCommand(cmdStr)\n",
    "            newstat = int(sim.sendOneCommand('status'))\n",
    "            res.append((state, (ret, newstat)))\n",
    "\n",
    "        simData[cmdStr] = dict(res)\n",
    "\n",
    "    return simData"
   ]
  },
  {
   "cell_type": "code",
   "execution_count": 7,
   "metadata": {},
   "outputs": [],
   "source": [
    "def testBshState(simData, mode, host, port, ts=2):\n",
    "    logger.info('==== STARTING BSH FUNCTIONAL TEST ====')\n",
    "    try:\n",
    "        ope = bsh(mode, host, port)\n",
    "        ope.startComm()\n",
    "        logger.info('==== BSH BOARD in mode %s  host : %s  port: %d ====\\r\\n'%(mode, host, port))\n",
    "        for cmdStr in ope.cmdList:\n",
    "            logger.info('==== TESTING CMD %s ====' % cmdStr)\n",
    "            for state in ope.states:\n",
    "                ope.sendOneCommand('init')\n",
    "                time.sleep(ts)\n",
    "                ope.sendOneCommand(state)\n",
    "                time.sleep(ts)\n",
    "\n",
    "                status = int(ope.sendOneCommand('status'))\n",
    "                if status != ope.statList[state]:\n",
    "                    logger.error('warning status (%d) should be %d' % (status, ope.statList[state]))\n",
    "\n",
    "                time.sleep(ts)\n",
    "                statword = int(ope.sendOneCommand('statword'))\n",
    "                if statword != ope.statwords[state]:\n",
    "                    logger.error('warning statword (%d) should be %d' % (statword, ope.statwords[state]))\n",
    "\n",
    "                logger.info('testing on state %s ( status=%d )' % (state, status))\n",
    "                time.sleep(ts)\n",
    "                ret = ope.sendOneCommand(cmdStr)\n",
    "\n",
    "                time.sleep(ts)\n",
    "                newstat = int(ope.sendOneCommand('status'))\n",
    "\n",
    "                if simData[cmdStr][state] != (ret, newstat):\n",
    "                    logger.error('FAILED !!! ret : %sok, stat:%d'%(ret, newstat))\n",
    "                else:\n",
    "                    logger.info('OK ret : %sok, stat:%d'%(ret, newstat))\n",
    "                    \n",
    "                time.sleep(ts)\n",
    "                \n",
    "            logger.info('==== CMD %s VALIDATED ====\\r\\n' % cmdStr)\n",
    "\n",
    "    except Exception as e:\n",
    "        logger.error(cmdTraceback(e))\n",
    "        raise"
   ]
  },
  {
   "cell_type": "code",
   "execution_count": 8,
   "metadata": {},
   "outputs": [],
   "source": [
    "def testBiaConfig(mode, host, port, ts=2):\n",
    "    testConf = {0 : dict(biaStrobe='off', biaDuty=255, biaPeriod=10000),\n",
    "            1 : dict(biaStrobe=None, biaDuty=200, biaPeriod=None),\n",
    "            2 : dict(biaStrobe=None, biaDuty=100, biaPeriod=None),\n",
    "            3 : dict(biaStrobe=None, biaDuty=50, biaPeriod=None),\n",
    "            4 : dict(biaStrobe='on', biaDuty=None, biaPeriod=None),\n",
    "            5 : dict(biaStrobe=None, biaDuty=200, biaPeriod=None),\n",
    "            6 : dict(biaStrobe=None, biaDuty=255, biaPeriod=1000),\n",
    "            7 : dict(biaStrobe=None, biaDuty=None, biaPeriod=100),\n",
    "            8 : dict(biaStrobe='off', biaDuty=255, biaPeriod=10000),\n",
    "           }\n",
    "    try:\n",
    "        logger.info('==== STARTING BSH CONFIG TEST ====')\n",
    "        \n",
    "        ope = bsh(mode, host, port)\n",
    "        ope.startComm()\n",
    "        logger.info('==== BSH BOARD in mode %s  host : %s  port: %d ====\\r\\n'%(mode, host, port))\n",
    "        \n",
    "        state = 'bia_on'\n",
    "        ope.sendOneCommand('init')\n",
    "        time.sleep(ts)\n",
    "        ope.sendOneCommand(state)\n",
    "        time.sleep(ts)\n",
    "\n",
    "        status = int(ope.sendOneCommand('status'))\n",
    "        if status != ope.statList[state]:\n",
    "            logger.error('warning status (%d) should be %d' % (status, ope.statList[state]))\n",
    "\n",
    "        time.sleep(ts)\n",
    "        statword = int(ope.sendOneCommand('statword'))\n",
    "        if statword != ope.statwords[state]:\n",
    "            logger.error('warning statword (%d) should be %d' % (statword, ope.statwords[state]))\n",
    "        \n",
    "        for kwargs in OrderedDict(sorted(testConf.items())).values():\n",
    "            logger.info('==== TESTING CONF %s ===='%kwargs)\n",
    "            ope.setBiaConfig(**kwargs)\n",
    "            \n",
    "            time.sleep(15)\n",
    "            logger.info('==== TEST CONF OK ==== \\r\\n'%kwargs)\n",
    "            \n",
    "    except Exception as e:\n",
    "        logger.error(cmdTraceback(e))\n",
    "        raise"
   ]
  },
  {
   "cell_type": "code",
   "execution_count": 9,
   "metadata": {},
   "outputs": [],
   "source": [
    "simData = createSimData()"
   ]
  },
  {
   "cell_type": "code",
   "execution_count": 11,
   "metadata": {},
   "outputs": [],
   "source": [
    "import logging\n",
    "\n",
    "logFolder ='/software/ait/logs/bsh'\n",
    "#logFolder ='/home/arnaud/AIT-PFS/bshlogs'\n",
    "logFile = '%s/%s-bshBoard-funcTest.log' % (logFolder, dt.utcnow().replace(microsecond=0).isoformat())\n",
    "\n",
    "logger = logging.getLogger('bshBoard')\n",
    "logger.setLevel(logging.DEBUG)\n",
    "# create file handler which logs even debug messages\n",
    "fh = logging.FileHandler(logFile)\n",
    "fh.setLevel(logging.DEBUG)\n",
    "# create console handler with a higher log level\n",
    "ch = logging.StreamHandler()\n",
    "ch.setLevel(logging.ERROR)\n",
    "# create formatter and add it to the handlers\n",
    "formatter = logging.Formatter('%(asctime)s - %(name)s - %(levelname)s - %(message)s')\n",
    "fh.setFormatter(formatter)\n",
    "ch.setFormatter(formatter)\n",
    "# add the handlers to the logger\n",
    "logger.addHandler(fh)\n",
    "logger.addHandler(ch)"
   ]
  },
  {
   "cell_type": "code",
   "execution_count": 12,
   "metadata": {},
   "outputs": [],
   "source": [
    "host = 'arduitest.pfs'\n",
    "port = 23\n",
    "mode = 'simulation'"
   ]
  },
  {
   "cell_type": "code",
   "execution_count": 13,
   "metadata": {},
   "outputs": [],
   "source": [
    "testBshState(simData, mode=mode, host=host, port=port)"
   ]
  },
  {
   "cell_type": "code",
   "execution_count": 14,
   "metadata": {},
   "outputs": [],
   "source": [
    "testBiaConfig(mode=mode, host=host, port=port)"
   ]
  }
 ],
 "metadata": {
  "kernelspec": {
   "display_name": "Python 3",
   "language": "python",
   "name": "python3"
  },
  "language_info": {
   "codemirror_mode": {
    "name": "ipython",
    "version": 3
   },
   "file_extension": ".py",
   "mimetype": "text/x-python",
   "name": "python",
   "nbconvert_exporter": "python",
   "pygments_lexer": "ipython3",
   "version": "3.7.1"
  }
 },
 "nbformat": 4,
 "nbformat_minor": 2
}
