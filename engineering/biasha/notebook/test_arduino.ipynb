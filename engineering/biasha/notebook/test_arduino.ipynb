{
 "cells": [
  {
   "cell_type": "code",
   "execution_count": null,
   "metadata": {
    "collapsed": true
   },
   "outputs": [],
   "source": [
    "import socket\n",
    "import time"
   ]
  },
  {
   "cell_type": "code",
   "execution_count": 2,
   "metadata": {
    "collapsed": false
   },
   "outputs": [],
   "source": [
    "from enuActor.Controllers.bufferedSocket import BufferedSocket\n",
    "from enuActor.Controllers.device import Device"
   ]
  },
  {
   "cell_type": "code",
   "execution_count": 4,
   "metadata": {
    "collapsed": false
   },
   "outputs": [],
   "source": [
    "TCP_IP = 'biasha1'\n",
    "TCP_PORT = 23\n",
    "\n",
    "dev = Device(TCP_IP, TCP_PORT)"
   ]
  },
  {
   "cell_type": "code",
   "execution_count": 5,
   "metadata": {
    "collapsed": true
   },
   "outputs": [],
   "source": [
    "def processSeq(sequence):\n",
    "    for cmd, resp in sequence:\n",
    "        print cmd\n",
    "        r = dev.sendOneCommand(cmd)\n",
    "        print r, \"==\", resp\n",
    "        if r!=resp:\n",
    "            raise ValueError\n",
    "        time.sleep(0.5)\n",
    "        \n",
    "def testAll(state):\n",
    "    allCmds = [\"bia_on\", \n",
    "           \"bia_off\",\n",
    "           \"shut_open\", \n",
    "           \"shut_close\",\n",
    "           \"blue_open\", \n",
    "           \"blue_close\",\n",
    "           \"red_open\", \n",
    "           \"red_close\",\n",
    "           \"init\"]\n",
    "\n",
    "    for cmd in allCmds:\n",
    "        print \"cmd=\",cmd\n",
    "        processSeq(state)\n",
    "        ret = dev.sendOneCommand(cmd)\n",
    "        stat = dev.sendOneCommand(\"status\")\n",
    "\n",
    "        print \"ret=\",ret\n",
    "        print \"status=\",stat\n",
    "        time.sleep(1)"
   ]
  },
  {
   "cell_type": "code",
   "execution_count": 6,
   "metadata": {
    "collapsed": true
   },
   "outputs": [],
   "source": [
    "def statword(state):\n",
    "    shb_err_status = 0\n",
    "    shr_err_status = 0\n",
    "    \n",
    "    if state in [0,10]:\n",
    "        shb_open_status = 0\n",
    "        shb_close_status = 1\n",
    "        shr_open_status = 0\n",
    "        shr_close_status = 1\n",
    "\n",
    "    elif state==20:\n",
    "        shb_open_status = 1\n",
    "        shb_close_status = 0\n",
    "        shr_open_status = 1\n",
    "        shr_close_status = 0\n",
    "    elif state==30:\n",
    "        shb_open_status = 1\n",
    "        shb_close_status = 0\n",
    "        shr_open_status = 0\n",
    "        shr_close_status = 1\n",
    "    elif state==40:\n",
    "        shb_open_status = 0\n",
    "        shb_close_status = 1\n",
    "        shr_open_status = 1\n",
    "        shr_close_status = 0\n",
    "        \n",
    "    statword =(1<<6)+ (shb_open_status<<5)+(shb_close_status<<4)+(shb_err_status<<3)+(shr_open_status<<2)+(shr_close_status<<1)+shr_err_status;\n",
    "    return str(statword)\n",
    "    "
   ]
  },
  {
   "cell_type": "code",
   "execution_count": 7,
   "metadata": {
    "collapsed": false
   },
   "outputs": [],
   "source": [
    "init_state_00 = [('init', ''),\n",
    "                 ('status', '0'),\n",
    "                 ('statword', statword(0))]\n",
    "\n",
    "init_state_10 =  init_state_00 + \\\n",
    "                 [('bia_on', ''),\n",
    "                 ('status', '10'),\n",
    "                 ('statword', statword(10))]\n",
    "    \n",
    "init_state_20 = init_state_00 + \\\n",
    "                 [('shut_open', ''),\n",
    "                 ('status', '20'),\n",
    "                 ('statword', statword(20))]\n",
    "    \n",
    "init_state_30 = init_state_00 + \\\n",
    "                 [('blue_open', ''),\n",
    "                 ('status', '30'),\n",
    "                 ('statword', statword(30))]\n",
    "    \n",
    "init_state_40 = init_state_00 + \\\n",
    "                 [('red_open', ''),\n",
    "                 ('status', '40'),\n",
    "                 ('statword', statword(40))]\n"
   ]
  },
  {
   "cell_type": "code",
   "execution_count": 8,
   "metadata": {
    "collapsed": false
   },
   "outputs": [
    {
     "name": "stdout",
     "output_type": "stream",
     "text": [
      "init\n",
      " == \n",
      "status\n",
      "0 == 0\n",
      "statword\n",
      "82 == 82\n"
     ]
    }
   ],
   "source": [
    "processSeq(init_state_00)"
   ]
  },
  {
   "cell_type": "code",
   "execution_count": 23,
   "metadata": {
    "collapsed": false
   },
   "outputs": [
    {
     "name": "stdout",
     "output_type": "stream",
     "text": [
      "init\n",
      " == \n",
      "status\n",
      "0 == 0\n",
      "statword\n",
      "82 == 82\n",
      "bia_on\n",
      " == \n",
      "status\n",
      "10 == 10\n",
      "statword\n",
      "82 == 82\n"
     ]
    }
   ],
   "source": [
    "processSeq(init_state_10)"
   ]
  },
  {
   "cell_type": "code",
   "execution_count": 9,
   "metadata": {
    "collapsed": false
   },
   "outputs": [
    {
     "name": "stdout",
     "output_type": "stream",
     "text": [
      "init\n",
      " == \n",
      "status\n",
      "0 == 0\n",
      "statword\n",
      "82 == 82\n",
      "shut_open\n",
      " == \n",
      "status\n",
      "20 == 20\n",
      "statword\n",
      "100 == 100\n"
     ]
    }
   ],
   "source": [
    "processSeq(init_state_20)"
   ]
  },
  {
   "cell_type": "code",
   "execution_count": 10,
   "metadata": {
    "collapsed": false
   },
   "outputs": [
    {
     "name": "stdout",
     "output_type": "stream",
     "text": [
      "init\n",
      " == \n",
      "status\n",
      "0 == 0\n",
      "statword\n",
      "82 == 82\n",
      "blue_open\n",
      " == \n",
      "status\n",
      "30 == 30\n",
      "statword\n",
      "98 == 98\n"
     ]
    }
   ],
   "source": [
    "processSeq(init_state_30)"
   ]
  },
  {
   "cell_type": "code",
   "execution_count": 11,
   "metadata": {
    "collapsed": false
   },
   "outputs": [
    {
     "name": "stdout",
     "output_type": "stream",
     "text": [
      "init\n",
      " == \n",
      "status\n",
      "0 == 0\n",
      "statword\n",
      "82 == 82\n",
      "red_open\n",
      " == \n",
      "status\n",
      "40 == 40\n",
      "statword\n",
      "84 == 84\n"
     ]
    }
   ],
   "source": [
    "processSeq(init_state_40)"
   ]
  },
  {
   "cell_type": "code",
   "execution_count": null,
   "metadata": {
    "collapsed": true
   },
   "outputs": [],
   "source": []
  },
  {
   "cell_type": "code",
   "execution_count": 8,
   "metadata": {
    "collapsed": false
   },
   "outputs": [
    {
     "name": "stdout",
     "output_type": "stream",
     "text": [
      "cmd= bia_on\n",
      "ret= \n",
      "status= 10\n",
      "cmd= bia_off\n",
      "ret= n\n",
      "status= 0\n",
      "cmd= shut_open\n",
      "ret= \n",
      "status= 20\n",
      "cmd= shut_close\n",
      "ret= n\n",
      "status= 0\n",
      "cmd= blue_open\n",
      "ret= \n",
      "status= 30\n",
      "cmd= blue_close\n",
      "ret= n\n",
      "status= 0\n",
      "cmd= red_open\n",
      "ret= \n",
      "status= 40\n",
      "cmd= red_close\n",
      "ret= n\n",
      "status= 0\n",
      "cmd= init\n",
      "ret= \n",
      "status= 0\n"
     ]
    }
   ],
   "source": [
    "testAll(init_state_00)"
   ]
  },
  {
   "cell_type": "code",
   "execution_count": 9,
   "metadata": {
    "collapsed": false
   },
   "outputs": [
    {
     "name": "stdout",
     "output_type": "stream",
     "text": [
      "cmd= bia_on\n",
      "ret= n\n",
      "status= 10\n",
      "cmd= bia_off\n",
      "ret= \n",
      "status= 0\n",
      "cmd= shut_open\n",
      "ret= n\n",
      "status= 10\n",
      "cmd= shut_close\n",
      "ret= n\n",
      "status= 10\n",
      "cmd= blue_open\n",
      "ret= n\n",
      "status= 10\n",
      "cmd= blue_close\n",
      "ret= n\n",
      "status= 10\n",
      "cmd= red_open\n",
      "ret= n\n",
      "status= 10\n",
      "cmd= red_close\n",
      "ret= n\n",
      "status= 10\n",
      "cmd= init\n",
      "ret= \n",
      "status= 0\n"
     ]
    }
   ],
   "source": [
    "testAll(init_state_10)"
   ]
  },
  {
   "cell_type": "code",
   "execution_count": 10,
   "metadata": {
    "collapsed": false
   },
   "outputs": [
    {
     "name": "stdout",
     "output_type": "stream",
     "text": [
      "cmd= bia_on\n",
      "ret= n\n",
      "status= 20\n",
      "cmd= bia_off\n",
      "ret= n\n",
      "status= 20\n",
      "cmd= shut_open\n",
      "ret= n\n",
      "status= 20\n",
      "cmd= shut_close\n",
      "ret= \n",
      "status= 0\n",
      "cmd= blue_open\n",
      "ret= n\n",
      "status= 20\n",
      "cmd= blue_close\n",
      "ret= \n",
      "status= 40\n",
      "cmd= red_open\n",
      "ret= n\n",
      "status= 20\n",
      "cmd= red_close\n",
      "ret= \n",
      "status= 30\n",
      "cmd= init\n",
      "ret= \n",
      "status= 0\n"
     ]
    }
   ],
   "source": [
    "testAll(init_state_20)"
   ]
  },
  {
   "cell_type": "code",
   "execution_count": 11,
   "metadata": {
    "collapsed": false
   },
   "outputs": [
    {
     "name": "stdout",
     "output_type": "stream",
     "text": [
      "cmd= bia_on\n",
      "ret= n\n",
      "status= 30\n",
      "cmd= bia_off\n",
      "ret= n\n",
      "status= 30\n",
      "cmd= shut_open\n",
      "ret= \n",
      "status= 20\n",
      "cmd= shut_close\n",
      "ret= \n",
      "status= 0\n",
      "cmd= blue_open\n",
      "ret= n\n",
      "status= 30\n",
      "cmd= blue_close\n",
      "ret= \n",
      "status= 0\n",
      "cmd= red_open\n",
      "ret= \n",
      "status= 20\n",
      "cmd= red_close\n",
      "ret= n\n",
      "status= 30\n",
      "cmd= init\n",
      "ret= \n",
      "status= 0\n"
     ]
    }
   ],
   "source": [
    "testAll(init_state_30)"
   ]
  },
  {
   "cell_type": "code",
   "execution_count": 15,
   "metadata": {
    "collapsed": false
   },
   "outputs": [
    {
     "name": "stdout",
     "output_type": "stream",
     "text": [
      "cmd= bia_on\n",
      "ret= n\n",
      "status= 40\n",
      "cmd= bia_off\n",
      "ret= n\n",
      "status= 40\n",
      "cmd= shut_open\n",
      "ret= \n",
      "status= 20\n",
      "cmd= shut_close\n",
      "ret= \n",
      "status= 0\n",
      "cmd= blue_open\n",
      "ret= \n",
      "status= 20\n",
      "cmd= blue_close\n",
      "ret= n\n",
      "status= 40\n",
      "cmd= red_open\n",
      "ret= n\n",
      "status= 40\n",
      "cmd= red_close\n",
      "ret= \n",
      "status= 0\n",
      "cmd= init\n",
      "ret= \n",
      "status= 0\n"
     ]
    }
   ],
   "source": [
    "testAll(init_state_40)"
   ]
  },
  {
   "cell_type": "code",
   "execution_count": 20,
   "metadata": {
    "collapsed": false
   },
   "outputs": [
    {
     "name": "stdout",
     "output_type": "stream",
     "text": [
      "period= 1500\n",
      "duty= 128\n",
      "param= 0,1500,128\n",
      "\n",
      "pulse_on\n",
      "ret= \n",
      "period= 1500\n",
      "duty= 128\n",
      "param= 1,1500,128\n",
      "\n",
      "pulse_off\n",
      "ret= \n",
      "period= 1500\n",
      "duty= 128\n",
      "param= 0,1500,128\n",
      "\n",
      "set_period1500\n",
      "ret= \n",
      "period= 1500\n",
      "duty= 128\n",
      "param= 0,1500,128\n",
      "\n",
      "set_duty1228\n",
      "ret= \n",
      "period= 1500\n",
      "duty= 128\n",
      "param= 0,1500,128\n"
     ]
    }
   ],
   "source": [
    "other = ['pulse_on',\n",
    "        'pulse_off',\n",
    "        'set_period1500',\n",
    "        'set_duty1228']\n",
    "\n",
    "for cmd in other:\n",
    "    print \"period=\", dev.sendOneCommand('get_period')\n",
    "    print \"duty=\", dev.sendOneCommand('get_duty')\n",
    "    print \"param=\", dev.sendOneCommand('get_param')\n",
    "    print \n",
    "    print cmd\n",
    "    print \"ret=\", dev.sendOneCommand(cmd)\n",
    "    \n",
    "print \"period=\", dev.sendOneCommand('get_period')\n",
    "print \"duty=\", dev.sendOneCommand('get_duty')\n",
    "print \"param=\", dev.sendOneCommand('get_param')"
   ]
  },
  {
   "cell_type": "code",
   "execution_count": null,
   "metadata": {
    "collapsed": true
   },
   "outputs": [],
   "source": [
    "try:\n",
    "    self.checkInterlock(self.shState, self.biaState, cmdStr)\n",
    "except Exception as e:\n",
    "    cmd.warn(\"text='%s switch failed %s'\" % (self.name.upper(), formatException(e, sys.exc_info()[2])))\n",
    "    return True\n",
    "\n",
    "try:\n",
    "    reply = self.sendOneCommand(cmdStr, doClose=False, cmd=cmd)\n",
    "    if reply != \"\":\n",
    "        raise Exception(\"warning %s return %s\" % (cmdStr, reply))\n",
    "\n",
    "except Exception as e:\n",
    "    cmd.warn(\"text='%s switch failed %s'\" % (self.name.upper(), formatException(e, sys.exc_info()[2])))\n",
    "    return False\n",
    "\n",
    "return True"
   ]
  },
  {
   "cell_type": "code",
   "execution_count": null,
   "metadata": {
    "collapsed": true
   },
   "outputs": [],
   "source": [
    "def warn(func):\n",
    "    def wrapper(self, *args, **kwargs):\n",
    "        try:\n",
    "            func()\n",
    "        except\n",
    "        "
   ]
  },
  {
   "cell_type": "code",
   "execution_count": 21,
   "metadata": {
    "collapsed": true
   },
   "outputs": [],
   "source": [
    "t = dev.sendOneCommand('get_param')"
   ]
  },
  {
   "cell_type": "code",
   "execution_count": 24,
   "metadata": {
    "collapsed": false
   },
   "outputs": [
    {
     "data": {
      "text/plain": [
       "[0, 100, 0]"
      ]
     },
     "execution_count": 24,
     "metadata": {},
     "output_type": "execute_result"
    }
   ],
   "source": [
    "[int(val) for val in t.split(',')]"
   ]
  },
  {
   "cell_type": "code",
   "execution_count": null,
   "metadata": {
    "collapsed": true
   },
   "outputs": [],
   "source": [
    "both_close = 109\n",
    "both_open = 91\n",
    "redopen = 93\n",
    "blueopen = 107\n",
    "\n",
    "\n"
   ]
  },
  {
   "cell_type": "code",
   "execution_count": 101,
   "metadata": {
    "collapsed": false
   },
   "outputs": [
    {
     "name": "stdout",
     "output_type": "stream",
     "text": [
      "27\n"
     ]
    }
   ],
   "source": [
    "print 91-64"
   ]
  },
  {
   "cell_type": "code",
   "execution_count": 99,
   "metadata": {
    "collapsed": false
   },
   "outputs": [
    {
     "data": {
      "text/plain": [
       "'30'"
      ]
     },
     "execution_count": 99,
     "metadata": {},
     "output_type": "execute_result"
    }
   ],
   "source": [
    "dev.sendOneCommand('status')"
   ]
  },
  {
   "cell_type": "code",
   "execution_count": 98,
   "metadata": {
    "collapsed": false
   },
   "outputs": [
    {
     "data": {
      "text/plain": [
       "'107'"
      ]
     },
     "execution_count": 98,
     "metadata": {},
     "output_type": "execute_result"
    }
   ],
   "source": [
    "dev.sendOneCommand('statword')"
   ]
  },
  {
   "cell_type": "code",
   "execution_count": 97,
   "metadata": {
    "collapsed": false
   },
   "outputs": [
    {
     "data": {
      "text/plain": [
       "'shutter switch timeoutn'"
      ]
     },
     "execution_count": 97,
     "metadata": {},
     "output_type": "execute_result"
    }
   ],
   "source": [
    "dev.sendOneCommand('blue_open')"
   ]
  },
  {
   "cell_type": "code",
   "execution_count": 35,
   "metadata": {
    "collapsed": false
   },
   "outputs": [],
   "source": [
    "statword = dev.sendOneCommand('statword')\n",
    "shut_stat = [{0: \"close\", 1: \"open\"}, {0: \"open\", 1: \"close\"}, {0: \"ok\", 1: \"error\"}]"
   ]
  },
  {
   "cell_type": "code",
   "execution_count": 26,
   "metadata": {
    "collapsed": false
   },
   "outputs": [
    {
     "ename": "KeyError",
     "evalue": "9",
     "traceback": [
      "\u001b[1;31m---------------------------------------------------------------------------\u001b[0m",
      "\u001b[1;31mKeyError\u001b[0m                                  Traceback (most recent call last)",
      "\u001b[1;32m<ipython-input-26-f7f7a38a2d69>\u001b[0m in \u001b[0;36m<module>\u001b[1;34m()\u001b[0m\n\u001b[0;32m      1\u001b[0m \u001b[1;32mfor\u001b[0m \u001b[0mi\u001b[0m\u001b[1;33m,\u001b[0m \u001b[0mshutter\u001b[0m \u001b[1;32min\u001b[0m \u001b[0menumerate\u001b[0m\u001b[1;33m(\u001b[0m\u001b[1;33m[\u001b[0m\u001b[1;34m\"shr\"\u001b[0m\u001b[1;33m,\u001b[0m \u001b[1;34m\"shb\"\u001b[0m\u001b[1;33m]\u001b[0m\u001b[1;33m)\u001b[0m\u001b[1;33m:\u001b[0m\u001b[1;33m\u001b[0m\u001b[0m\n\u001b[1;32m----> 2\u001b[1;33m         \u001b[1;32mprint\u001b[0m \u001b[1;34m\"%s=%s\"\u001b[0m \u001b[1;33m%\u001b[0m \u001b[1;33m(\u001b[0m\u001b[0mshutter\u001b[0m\u001b[1;33m,\u001b[0m \u001b[1;34m','\u001b[0m\u001b[1;33m.\u001b[0m\u001b[0mjoin\u001b[0m\u001b[1;33m(\u001b[0m\u001b[1;33m[\u001b[0m\u001b[0mshut_stat\u001b[0m\u001b[1;33m[\u001b[0m\u001b[0mj\u001b[0m \u001b[1;33m%\u001b[0m \u001b[1;36m3\u001b[0m\u001b[1;33m]\u001b[0m\u001b[1;33m[\u001b[0m\u001b[0mint\u001b[0m\u001b[1;33m(\u001b[0m\u001b[0mstatword\u001b[0m\u001b[1;33m[\u001b[0m\u001b[0mj\u001b[0m\u001b[1;33m]\u001b[0m\u001b[1;33m)\u001b[0m\u001b[1;33m]\u001b[0m \u001b[1;32mfor\u001b[0m \u001b[0mj\u001b[0m \u001b[1;32min\u001b[0m \u001b[0mrange\u001b[0m\u001b[1;33m(\u001b[0m\u001b[0mi\u001b[0m \u001b[1;33m*\u001b[0m \u001b[1;36m3\u001b[0m\u001b[1;33m,\u001b[0m \u001b[1;33m(\u001b[0m\u001b[0mi\u001b[0m \u001b[1;33m+\u001b[0m \u001b[1;36m1\u001b[0m\u001b[1;33m)\u001b[0m \u001b[1;33m*\u001b[0m \u001b[1;36m3\u001b[0m\u001b[1;33m)\u001b[0m\u001b[1;33m]\u001b[0m\u001b[1;33m)\u001b[0m\u001b[1;33m)\u001b[0m\u001b[1;33m\u001b[0m\u001b[0m\n\u001b[0m",
      "\u001b[1;31mKeyError\u001b[0m: 9"
     ],
     "output_type": "error"
    }
   ],
   "source": [
    "for i, shutter in enumerate([\"shr\", \"shb\"]):\n",
    "        print \"%s=%s\" % (shutter, ','.join([shut_stat[j % 3][int(statword[j])] for j in range(i * 3, (i + 1) * 3)]))\n"
   ]
  },
  {
   "cell_type": "code",
   "execution_count": 36,
   "metadata": {
    "collapsed": false
   },
   "outputs": [
    {
     "data": {
      "text/plain": [
       "'109'"
      ]
     },
     "execution_count": 36,
     "metadata": {},
     "output_type": "execute_result"
    }
   ],
   "source": [
    "statword"
   ]
  },
  {
   "cell_type": "code",
   "execution_count": 85,
   "metadata": {
    "collapsed": false
   },
   "outputs": [
    {
     "ename": "TypeError",
     "evalue": "int() argument must be a string or a number, not 'function'",
     "traceback": [
      "\u001b[1;31m---------------------------------------------------------------------------\u001b[0m",
      "\u001b[1;31mTypeError\u001b[0m                                 Traceback (most recent call last)",
      "\u001b[1;32m<ipython-input-85-ec2cb0a37d70>\u001b[0m in \u001b[0;36m<module>\u001b[1;34m()\u001b[0m\n\u001b[1;32m----> 1\u001b[1;33m \u001b[0mhex\u001b[0m\u001b[1;33m(\u001b[0m\u001b[0mint\u001b[0m\u001b[1;33m(\u001b[0m\u001b[0mstatword\u001b[0m\u001b[1;33m)\u001b[0m\u001b[1;33m)\u001b[0m\u001b[1;33m\u001b[0m\u001b[0m\n\u001b[0m",
      "\u001b[1;31mTypeError\u001b[0m: int() argument must be a string or a number, not 'function'"
     ],
     "output_type": "error"
    }
   ],
   "source": [
    "hex(int(statword))"
   ]
  },
  {
   "cell_type": "code",
   "execution_count": 78,
   "metadata": {
    "collapsed": false
   },
   "outputs": [
    {
     "data": {
      "text/plain": [
       "'40'"
      ]
     },
     "execution_count": 78,
     "metadata": {},
     "output_type": "execute_result"
    }
   ],
   "source": [
    "dev.sendOneCommand('status')"
   ]
  },
  {
   "cell_type": "code",
   "execution_count": 47,
   "metadata": {
    "collapsed": false
   },
   "outputs": [
    {
     "data": {
      "text/plain": [
       "97"
      ]
     },
     "execution_count": 47,
     "metadata": {},
     "output_type": "execute_result"
    }
   ],
   "source": [
    "statword"
   ]
  },
  {
   "cell_type": "code",
   "execution_count": 84,
   "metadata": {
    "collapsed": false
   },
   "outputs": [
    {
     "ename": "Exception",
     "evalue": "bsh failed to connect socket",
     "traceback": [
      "\u001b[1;31m---------------------------------------------------------------------------\u001b[0m",
      "\u001b[1;31mException\u001b[0m                                 Traceback (most recent call last)",
      "\u001b[1;32m<ipython-input-84-acc4d1e83fe6>\u001b[0m in \u001b[0;36m<module>\u001b[1;34m()\u001b[0m\n\u001b[1;32m----> 1\u001b[1;33m \u001b[0mhex\u001b[0m\u001b[1;33m(\u001b[0m\u001b[0mint\u001b[0m\u001b[1;33m(\u001b[0m\u001b[0mdev\u001b[0m\u001b[1;33m.\u001b[0m\u001b[0msendOneCommand\u001b[0m\u001b[1;33m(\u001b[0m\u001b[1;34m'statword'\u001b[0m\u001b[1;33m)\u001b[0m\u001b[1;33m)\u001b[0m\u001b[1;33m)\u001b[0m\u001b[1;33m\u001b[0m\u001b[0m\n\u001b[0m",
      "\u001b[1;32m<ipython-input-3-18159c0bc151>\u001b[0m in \u001b[0;36msendOneCommand\u001b[1;34m(self, cmdStr, doClose, cmd)\u001b[0m\n\u001b[0;32m     64\u001b[0m         \u001b[0mfullCmd\u001b[0m \u001b[1;33m=\u001b[0m \u001b[1;34m\"%s%s\"\u001b[0m \u001b[1;33m%\u001b[0m \u001b[1;33m(\u001b[0m\u001b[0mcmdStr\u001b[0m\u001b[1;33m,\u001b[0m \u001b[0mself\u001b[0m\u001b[1;33m.\u001b[0m\u001b[0mEOL\u001b[0m\u001b[1;33m)\u001b[0m\u001b[1;33m\u001b[0m\u001b[0m\n\u001b[0;32m     65\u001b[0m \u001b[1;33m\u001b[0m\u001b[0m\n\u001b[1;32m---> 66\u001b[1;33m         \u001b[0ms\u001b[0m \u001b[1;33m=\u001b[0m \u001b[0mself\u001b[0m\u001b[1;33m.\u001b[0m\u001b[0mconnectSock\u001b[0m\u001b[1;33m(\u001b[0m\u001b[1;33m)\u001b[0m\u001b[1;33m\u001b[0m\u001b[0m\n\u001b[0m\u001b[0;32m     67\u001b[0m         \u001b[1;32mtry\u001b[0m\u001b[1;33m:\u001b[0m\u001b[1;33m\u001b[0m\u001b[0m\n\u001b[0;32m     68\u001b[0m             \u001b[0ms\u001b[0m\u001b[1;33m.\u001b[0m\u001b[0msendall\u001b[0m\u001b[1;33m(\u001b[0m\u001b[0mfullCmd\u001b[0m\u001b[1;33m)\u001b[0m\u001b[1;33m\u001b[0m\u001b[0m\n",
      "\u001b[1;32m<ipython-input-3-18159c0bc151>\u001b[0m in \u001b[0;36mconnectSock\u001b[1;34m(self)\u001b[0m\n\u001b[0;32m     30\u001b[0m                 \u001b[0ms\u001b[0m\u001b[1;33m.\u001b[0m\u001b[0mconnect\u001b[0m\u001b[1;33m(\u001b[0m\u001b[1;33m(\u001b[0m\u001b[0mself\u001b[0m\u001b[1;33m.\u001b[0m\u001b[0mhost\u001b[0m\u001b[1;33m,\u001b[0m \u001b[0mself\u001b[0m\u001b[1;33m.\u001b[0m\u001b[0mport\u001b[0m\u001b[1;33m)\u001b[0m\u001b[1;33m)\u001b[0m\u001b[1;33m\u001b[0m\u001b[0m\n\u001b[0;32m     31\u001b[0m             \u001b[1;32mexcept\u001b[0m \u001b[0mException\u001b[0m \u001b[1;32mas\u001b[0m \u001b[0me\u001b[0m\u001b[1;33m:\u001b[0m\u001b[1;33m\u001b[0m\u001b[0m\n\u001b[1;32m---> 32\u001b[1;33m                 \u001b[1;32mraise\u001b[0m \u001b[0mException\u001b[0m\u001b[1;33m(\u001b[0m\u001b[1;34m\"%s failed to connect socket\"\u001b[0m \u001b[1;33m%\u001b[0m \u001b[1;33m(\u001b[0m\u001b[0mself\u001b[0m\u001b[1;33m.\u001b[0m\u001b[0mname\u001b[0m\u001b[1;33m)\u001b[0m\u001b[1;33m)\u001b[0m\u001b[1;33m\u001b[0m\u001b[0m\n\u001b[0m\u001b[0;32m     33\u001b[0m \u001b[1;33m\u001b[0m\u001b[0m\n\u001b[0;32m     34\u001b[0m             \u001b[0mself\u001b[0m\u001b[1;33m.\u001b[0m\u001b[0msock\u001b[0m \u001b[1;33m=\u001b[0m \u001b[0ms\u001b[0m\u001b[1;33m\u001b[0m\u001b[0m\n",
      "\u001b[1;31mException\u001b[0m: bsh failed to connect socket"
     ],
     "output_type": "error"
    }
   ],
   "source": [
    "hex(int(dev.sendOneCommand('statword')))"
   ]
  },
  {
   "cell_type": "code",
   "execution_count": 12,
   "metadata": {
    "collapsed": false
   },
   "outputs": [
    {
     "name": "stdout",
     "output_type": "stream",
     "text": [
      "0x62\n"
     ]
    }
   ],
   "source": [
    "\n",
    "shb_err_status = 0\n",
    "shb_open_status = 1\n",
    "shb_close_status = 0\n",
    "\n",
    "shr_err_status = 0\n",
    "shr_open_status = 0\n",
    "shr_close_status = 1    \n",
    "\n",
    "statword =(1<<6)+ (shb_open_status<<5)+(shb_close_status<<4)+(shb_err_status<<3)+(shr_open_status<<2)+(shr_close_status<<1)+shr_err_status;\n",
    "print hex(statword)\n",
    "    "
   ]
  },
  {
   "cell_type": "code",
   "execution_count": 51,
   "metadata": {
    "collapsed": false
   },
   "outputs": [
    {
     "data": {
      "text/plain": [
       "12"
      ]
     },
     "execution_count": 51,
     "metadata": {},
     "output_type": "execute_result"
    }
   ],
   "source": [
    "82\n",
    "100\n",
    "blue 84\n",
    "red 98"
   ]
  },
  {
   "cell_type": "code",
   "execution_count": 66,
   "metadata": {
    "collapsed": false
   },
   "outputs": [
    {
     "data": {
      "text/plain": [
       "2"
      ]
     },
     "execution_count": 66,
     "metadata": {},
     "output_type": "execute_result"
    }
   ],
   "source": [
    "\n",
    "1<<1"
   ]
  },
  {
   "cell_type": "code",
   "execution_count": 13,
   "metadata": {
    "collapsed": false
   },
   "outputs": [
    {
     "data": {
      "text/plain": [
       "''"
      ]
     },
     "execution_count": 13,
     "metadata": {},
     "output_type": "execute_result"
    }
   ],
   "source": [
    "dev.sendOneCommand('blue_open')"
   ]
  },
  {
   "cell_type": "code",
   "execution_count": 14,
   "metadata": {
    "collapsed": false
   },
   "outputs": [
    {
     "data": {
      "text/plain": [
       "'010100'"
      ]
     },
     "execution_count": 14,
     "metadata": {},
     "output_type": "execute_result"
    }
   ],
   "source": [
    "dev.sendOneCommand('statword')"
   ]
  },
  {
   "cell_type": "code",
   "execution_count": 20,
   "metadata": {
    "collapsed": false
   },
   "outputs": [
    {
     "data": {
      "text/plain": [
       "'0x62'"
      ]
     },
     "execution_count": 20,
     "metadata": {},
     "output_type": "execute_result"
    }
   ],
   "source": [
    "hex(98)"
   ]
  },
  {
   "cell_type": "code",
   "execution_count": 21,
   "metadata": {
    "collapsed": false
   },
   "outputs": [
    {
     "data": {
      "text/plain": [
       "64"
      ]
     },
     "execution_count": 21,
     "metadata": {},
     "output_type": "execute_result"
    }
   ],
   "source": [
    "1<<6"
   ]
  },
  {
   "cell_type": "code",
   "execution_count": null,
   "metadata": {
    "collapsed": true
   },
   "outputs": [],
   "source": []
  }
 ],
 "metadata": {
  "kernelspec": {
   "display_name": "Python 2",
   "language": "python",
   "name": "python2"
  },
  "language_info": {
   "codemirror_mode": {
    "name": "ipython",
    "version": 2
   },
   "file_extension": ".py",
   "mimetype": "text/x-python",
   "name": "python",
   "nbconvert_exporter": "python",
   "pygments_lexer": "ipython2",
   "version": "2.7.11"
  }
 },
 "nbformat": 4,
 "nbformat_minor": 0
}
