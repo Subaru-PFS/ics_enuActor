{
 "cells": [
  {
   "cell_type": "markdown",
   "metadata": {
    "collapsed": true
   },
   "source": [
    "enuActor product has to be setup first"
   ]
  },
  {
   "cell_type": "code",
   "execution_count": null,
   "metadata": {
    "collapsed": true
   },
   "outputs": [],
   "source": [
    "import socket\n",
    "import time\n",
    "from enuActor.Controllers.Simulator.bsh_simu import BshSimulator"
   ]
  },
  {
   "cell_type": "code",
   "execution_count": 2,
   "metadata": {
    "collapsed": true
   },
   "outputs": [],
   "source": [
    "TCP_IP = 'biasha1.pfs'\n",
    "TCP_PORT = 23\n"
   ]
  },
  {
   "cell_type": "code",
   "execution_count": 14,
   "metadata": {
    "collapsed": false
   },
   "outputs": [],
   "source": [
    "import datetime as dt\n",
    "timeout = 5\n",
    "def safeRecv(socket):\n",
    "    t0 = dt.datetime.now()\n",
    "    try:\n",
    "        ret = [socket.recv(1024)]\n",
    "    except Exception as inst:\n",
    "            print \"text='error : %s '\" % inst\n",
    "            return False, ''\n",
    "    while(\"ok\\r\\n\" not in ret[-1] and (dt.datetime.now()-t0).total_seconds()<timeout):\n",
    "        try:\n",
    "            ret.append(socket.recv(1024))\n",
    "        except Exception as inst:\n",
    "            print \"text='error : %s '\" % inst\n",
    "            return False, ''\n",
    "        \n",
    "    if (dt.datetime.now()-t0).total_seconds()<timeout:\n",
    "        return True, ''.join(ret)\n",
    "    else:\n",
    "        return False, ''\n",
    "\n"
   ]
  },
  {
   "cell_type": "code",
   "execution_count": null,
   "metadata": {
    "collapsed": false
   },
   "outputs": [],
   "source": [
    "scenario = [\"init\\r\\n\", \"bia_on\\r\\n\", \"bia_off\\r\\n\", \"shut_open\\r\\n\", \"shut_close\\r\\n\"]"
   ]
  },
  {
   "cell_type": "code",
   "execution_count": 18,
   "metadata": {
    "collapsed": true
   },
   "outputs": [],
   "source": [
    "scenario = [\"init\\r\\n\", \"bia_on\\r\\n\", \"shut_open\\r\\n\", \"bia_off\\r\\n\", \"shut_open\\r\\n\", \"bia_on\\r\\n\", \"shut_close\\r\\n\"]"
   ]
  },
  {
   "cell_type": "code",
   "execution_count": 20,
   "metadata": {
    "collapsed": true
   },
   "outputs": [],
   "source": [
    "scenario = [\"init\\r\\n\", \"set_period220\\r\\n\", \"set_duty125\\r\\n\", \"get_period\\r\\n\", \"get_duty\\r\\n\", \"bia_off\\r\\n\", \"shut_close\\r\\n\",\n",
    "            \"bia_on\\r\\n\", \"bia_on\\r\\n\", \"shut_open\\r\\n\", \"shut_close\\r\\n\",\"bia_off\\r\\n\", \n",
    "            \"shut_open\\r\\n\", \"shut_open\\r\\n\", \"bia_on\\r\\n\", \"bia_off\\r\\n\", \"shut_close\\r\\n\"]"
   ]
  },
  {
   "cell_type": "code",
   "execution_count": null,
   "metadata": {
    "collapsed": true
   },
   "outputs": [],
   "source": [
    "scenario = [\"set_period100\\r\\n\", \"get_period\\r\\n\", \"set_duty255\\r\\n\", \"get_duty\\r\\n\" ]"
   ]
  },
  {
   "cell_type": "code",
   "execution_count": 12,
   "metadata": {
    "collapsed": true
   },
   "outputs": [],
   "source": [
    "scenario = [\"statword\\r\\n\"]"
   ]
  },
  {
   "cell_type": "code",
   "execution_count": null,
   "metadata": {
    "collapsed": true
   },
   "outputs": [],
   "source": [
    "scenario = [\"init\\r\\n\", \"bia_on\\r\\n\", \"shut_open\\r\\n\", \"bia_off\\r\\n\", \"shut_open\\r\\n\", \"bia_on\\r\\n\", \"shut_close\\r\\n\"]"
   ]
  },
  {
   "cell_type": "code",
   "execution_count": null,
   "metadata": {
    "collapsed": true
   },
   "outputs": [],
   "source": [
    "scenario = [\"stop\\r\\n\"]"
   ]
  },
  {
   "cell_type": "code",
   "execution_count": 22,
   "metadata": {
    "collapsed": false
   },
   "outputs": [
    {
     "name": "stdout",
     "output_type": "stream",
     "text": [
      "command= init\n",
      "\n",
      "received data: ok\n",
      "\n",
      "statword= 11111100ok\n",
      "\n",
      "status= 0ok\n",
      "\n",
      "command= set_period220\n",
      "\n",
      "received data: ok\n",
      "\n",
      "statword= 11111100ok\n",
      "\n",
      "status= 0ok\n",
      "\n",
      "command= set_duty125\n",
      "\n",
      "received data: ok\n",
      "\n",
      "statword= 11111100ok\n",
      "\n",
      "status= 0ok\n",
      "\n",
      "command= get_period\n",
      "\n",
      "received data: 220ok\n",
      "\n",
      "statword= 11111100ok\n",
      "\n",
      "status= 0ok\n",
      "\n",
      "command= get_duty\n",
      "\n",
      "received data: 125ok\n",
      "\n",
      "statword= 11111100ok\n",
      "\n",
      "status= 0ok\n",
      "\n",
      "command= bia_off\n",
      "\n",
      "received data: ok\n",
      "\n",
      "statword= 11111100ok\n",
      "\n",
      "status= 0ok\n",
      "\n",
      "command= shut_close\n",
      "\n",
      "received data: ok\n",
      "\n",
      "statword= 11111100ok\n",
      "\n",
      "status= 0ok\n",
      "\n",
      "command= bia_on\n",
      "\n",
      "received data: ok\n",
      "\n",
      "statword= 11111100ok\n",
      "\n",
      "status= 2ok\n",
      "\n",
      "command= bia_on\n",
      "\n",
      "received data: ok\n",
      "\n",
      "statword= 11111100ok\n",
      "\n",
      "status= 2ok\n",
      "\n",
      "command= shut_open\n",
      "\n",
      "received data: intlkok\n",
      "\n",
      "statword= 11111100ok\n",
      "\n",
      "status= 2ok\n",
      "\n",
      "command= shut_close\n",
      "\n",
      "received data: intlkok\n",
      "\n",
      "statword= 11111100ok\n",
      "\n",
      "status= 2ok\n",
      "\n",
      "command= bia_off\n",
      "\n",
      "received data: ok\n",
      "\n",
      "statword= 11111100ok\n",
      "\n",
      "status= 0ok\n",
      "\n",
      "command= shut_open\n",
      "\n",
      "received data: ok\n",
      "\n",
      "statword= 11111100ok\n",
      "\n",
      "status= 1ok\n",
      "\n",
      "command= shut_open\n",
      "\n",
      "received data: ok\n",
      "\n",
      "statword= 10111100ok\n",
      "\n",
      "status= 1ok\n",
      "\n",
      "command= bia_on\n",
      "\n",
      "received data: intlkok\n",
      "\n",
      "statword= 11111100ok\n",
      "\n",
      "status= 1ok\n",
      "\n",
      "command= bia_off\n",
      "\n",
      "received data: intlkok\n",
      "\n",
      "statword= 01111100ok\n",
      "\n",
      "status= 1ok\n",
      "\n",
      "command= shut_close\n",
      "\n",
      "received data: ok\n",
      "\n",
      "statword= 11111100ok\n",
      "\n",
      "status= 0ok\n",
      "\n"
     ]
    }
   ],
   "source": [
    "mode=\"operation\"\n",
    "\n",
    "s = socket.socket(socket.AF_INET, socket.SOCK_STREAM) if mode==\"operation\" else BshSimulator()\n",
    "s.settimeout(3)\n",
    "s.connect((TCP_IP, TCP_PORT))\n",
    "\n",
    "for command in scenario:\n",
    "    time.sleep(0.2)\n",
    "    print \"command=\",command\n",
    "    s.send(command)\n",
    "    ok, data = safeRecv(s)\n",
    "    print \"received data:\", data\n",
    "    \n",
    "    time.sleep(0.2)\n",
    "    \n",
    "    s.send(\"statword\\r\\n\")\n",
    "    ok, data = safeRecv(s)\n",
    "    print \"statword=\",data\n",
    "    \n",
    "    time.sleep(0.2)\n",
    "    \n",
    "    s.send(\"status\\r\\n\")\n",
    "    ok, data = safeRecv(s)\n",
    "    print \"status=\",data\n",
    "    \n",
    "    \n",
    "s.close()"
   ]
  },
  {
   "cell_type": "code",
   "execution_count": 10,
   "metadata": {
    "collapsed": false
   },
   "outputs": [
    {
     "name": "stdout",
     "output_type": "stream",
     "text": [
      "received data: ['', '']\n"
     ]
    }
   ],
   "source": [
    "s = socket.socket(socket.AF_INET, socket.SOCK_STREAM)\n",
    "s.connect((TCP_IP, TCP_PORT))\n",
    "\n",
    "s.send(\"set_period200\\r\\n\")\n",
    "data = s.recv(1024)\n",
    "print \"received data:\", data.split(\"ok\\r\\n\")\n",
    "time.sleep(0.2)\n"
   ]
  },
  {
   "cell_type": "code",
   "execution_count": 11,
   "metadata": {
    "collapsed": false
   },
   "outputs": [
    {
     "name": "stdout",
     "output_type": "stream",
     "text": [
      "received data: ['200']\n"
     ]
    }
   ],
   "source": [
    "\n",
    "s.send(\"get_period\\r\\n\")\n",
    "data = s.recv(1024)\n",
    "print \"received data:\", data.split(\"ok\\r\\n\")\n",
    "s.close()"
   ]
  },
  {
   "cell_type": "code",
   "execution_count": 8,
   "metadata": {
    "collapsed": false
   },
   "outputs": [
    {
     "name": "stdout",
     "output_type": "stream",
     "text": [
      "received data: ['', '']\n"
     ]
    }
   ],
   "source": [
    "s = socket.socket(socket.AF_INET, socket.SOCK_STREAM)\n",
    "s.connect((TCP_IP, TCP_PORT))\n",
    "\n",
    "s.send(\"set_duty120\\r\\n\")\n",
    "data = s.recv(1024)\n",
    "print \"received data:\", data.split(\"ok\\r\\n\")\n",
    "time.sleep(0.2)\n"
   ]
  },
  {
   "cell_type": "code",
   "execution_count": 9,
   "metadata": {
    "collapsed": false
   },
   "outputs": [
    {
     "name": "stdout",
     "output_type": "stream",
     "text": [
      "received data: 120 3\n"
     ]
    }
   ],
   "source": [
    "s = socket.socket(socket.AF_INET, socket.SOCK_STREAM)\n",
    "s.connect((TCP_IP, TCP_PORT))\n",
    "\n",
    "s.send(\"get_duty\\r\\n\")\n",
    "data = s.recv(1024)\n",
    "print \"received data:\", data, len(data)\n",
    "\n",
    "\n",
    "s.close()"
   ]
  }
 ],
 "metadata": {
  "anaconda-cloud": {},
  "kernelspec": {
   "display_name": "Python [default]",
   "language": "python",
   "name": "python2"
  },
  "language_info": {
   "codemirror_mode": {
    "name": "ipython",
    "version": 2
   },
   "file_extension": ".py",
   "mimetype": "text/x-python",
   "name": "python",
   "nbconvert_exporter": "python",
   "pygments_lexer": "ipython2",
   "version": "2.7.12"
  }
 },
 "nbformat": 4,
 "nbformat_minor": 0
}
